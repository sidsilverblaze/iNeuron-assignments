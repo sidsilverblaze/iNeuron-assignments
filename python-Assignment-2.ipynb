{
 "cells": [
  {
   "cell_type": "markdown",
   "id": "3419146f",
   "metadata": {},
   "source": [
    "### 1. Create the below pattern using nested for loop in Python."
   ]
  },
  {
   "cell_type": "code",
   "execution_count": 11,
   "id": "b0c2847b",
   "metadata": {},
   "outputs": [
    {
     "name": "stdout",
     "output_type": "stream",
     "text": [
      "*\n",
      "**\n",
      "***\n",
      "****\n",
      "*****\n",
      "****\n",
      "***\n",
      "**\n",
      "*\n"
     ]
    }
   ],
   "source": [
    "max_stars = 5\n",
    "mid_row = max_stars-1\n",
    "revert_flag = 0\n",
    "repetitions = 1\n",
    "for i in range(mid_row*2+1):\n",
    "    print(\"*\"*repetitions)\n",
    "    if i <mid_row:\n",
    "        repetitions+=1\n",
    "    else:\n",
    "        repetitions-=1"
   ]
  },
  {
   "cell_type": "markdown",
   "id": "1e57c8ee",
   "metadata": {},
   "source": [
    "### 2. Write a Python program to reverse a word after accepting the input from the user."
   ]
  },
  {
   "cell_type": "code",
   "execution_count": 14,
   "id": "efa1e5b5",
   "metadata": {},
   "outputs": [
    {
     "name": "stdout",
     "output_type": "stream",
     "text": [
      "input word: ineuron\n",
      "output: norueni\n"
     ]
    }
   ],
   "source": [
    "input_word = input(\"input word: \")\n",
    "print(\"output: \"+input_word[-1::-1])"
   ]
  }
 ],
 "metadata": {
  "kernelspec": {
   "display_name": "Python 3",
   "language": "python",
   "name": "python3"
  },
  "language_info": {
   "codemirror_mode": {
    "name": "ipython",
    "version": 3
   },
   "file_extension": ".py",
   "mimetype": "text/x-python",
   "name": "python",
   "nbconvert_exporter": "python",
   "pygments_lexer": "ipython3",
   "version": "3.8.5"
  }
 },
 "nbformat": 4,
 "nbformat_minor": 5
}
